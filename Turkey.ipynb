{
 "cells": [
  {
   "cell_type": "code",
   "execution_count": 1,
   "metadata": {
    "collapsed": true
   },
   "outputs": [],
   "source": [
    "import pandas as pd"
   ]
  },
  {
   "cell_type": "code",
   "execution_count": 6,
   "metadata": {
    "collapsed": true
   },
   "outputs": [],
   "source": [
    "df = pd.read_excel('results/turkey-june.xls').set_index('İL ADI')"
   ]
  },
  {
   "cell_type": "code",
   "execution_count": 8,
   "metadata": {
    "collapsed": false
   },
   "outputs": [],
   "source": [
    "parties = df.columns"
   ]
  },
  {
   "cell_type": "code",
   "execution_count": null,
   "metadata": {
    "collapsed": true
   },
   "outputs": [],
   "source": [
    "def dHondt(name, row, parties):\n",
    "    seats = int(row['seats'])\n",
    "    votes = [row[p] for p in parties]\n",
    "    denominators = range(1,seats+1)\n",
    "    coeffs = [[{ 'party' : parties[idx], 'coeff' : v/d} for d in denominators] for idx,v in enumerate(votes)]\n",
    "    ranked_list = sorted([item for sublist in coeffs for item in sublist], key=lambda x:x['coeff'])\n",
    "    winners = pd.DataFrame(ranked_list[-seats:])\n",
    "    results = winners.groupby('party').count().rename(columns={'coeff':'seats'}).reset_index()\n",
    "    results['Province'] = name\n",
    "    return results"
   ]
  }
 ],
 "metadata": {
  "kernelspec": {
   "display_name": "Python 3",
   "language": "python",
   "name": "python3"
  },
  "language_info": {
   "codemirror_mode": {
    "name": "ipython",
    "version": 3
   },
   "file_extension": ".py",
   "mimetype": "text/x-python",
   "name": "python",
   "nbconvert_exporter": "python",
   "pygments_lexer": "ipython3",
   "version": "3.4.3"
  }
 },
 "nbformat": 4,
 "nbformat_minor": 0
}
