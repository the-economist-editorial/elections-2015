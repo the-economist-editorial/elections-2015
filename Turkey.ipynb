{
 "cells": [
  {
   "cell_type": "markdown",
   "metadata": {},
   "source": [
    "https://sonuc.ysk.gov.tr/module/ssps.jsf"
   ]
  },
  {
   "cell_type": "code",
   "execution_count": 7,
   "metadata": {
    "collapsed": true
   },
   "outputs": [],
   "source": [
    "import pandas as pd"
   ]
  },
  {
   "cell_type": "code",
   "execution_count": 2,
   "metadata": {
    "collapsed": false
   },
   "outputs": [
    {
     "data": {
      "text/html": [
       "<div>\n",
       "<table border=\"1\" class=\"dataframe\">\n",
       "  <thead>\n",
       "    <tr style=\"text-align: right;\">\n",
       "      <th></th>\n",
       "      <th>Seats</th>\n",
       "      <th>DYP</th>\n",
       "      <th>ANADOLU PARTİSİ</th>\n",
       "      <th>HAK-PAR</th>\n",
       "      <th>KP</th>\n",
       "      <th>MİLLET</th>\n",
       "      <th>HAP</th>\n",
       "      <th>MEP</th>\n",
       "      <th>TURK PARTİ</th>\n",
       "      <th>HKP</th>\n",
       "      <th>...</th>\n",
       "      <th>HDP</th>\n",
       "      <th>SAADET</th>\n",
       "      <th>CHP</th>\n",
       "      <th>AK PARTİ</th>\n",
       "      <th>DSP</th>\n",
       "      <th>YURT-P</th>\n",
       "      <th>DP</th>\n",
       "      <th>VATAN PARTİSİ</th>\n",
       "      <th>BTP</th>\n",
       "      <th>BAGIMSIZ TOPLAMI</th>\n",
       "    </tr>\n",
       "    <tr>\n",
       "      <th>İL ADI</th>\n",
       "      <th></th>\n",
       "      <th></th>\n",
       "      <th></th>\n",
       "      <th></th>\n",
       "      <th></th>\n",
       "      <th></th>\n",
       "      <th></th>\n",
       "      <th></th>\n",
       "      <th></th>\n",
       "      <th></th>\n",
       "      <th></th>\n",
       "      <th></th>\n",
       "      <th></th>\n",
       "      <th></th>\n",
       "      <th></th>\n",
       "      <th></th>\n",
       "      <th></th>\n",
       "      <th></th>\n",
       "      <th></th>\n",
       "      <th></th>\n",
       "      <th></th>\n",
       "    </tr>\n",
       "  </thead>\n",
       "  <tbody>\n",
       "    <tr>\n",
       "      <th>ADANA</th>\n",
       "      <td>14</td>\n",
       "      <td>1098</td>\n",
       "      <td>590</td>\n",
       "      <td>1265</td>\n",
       "      <td>310</td>\n",
       "      <td>509</td>\n",
       "      <td>0</td>\n",
       "      <td>643</td>\n",
       "      <td>2199</td>\n",
       "      <td>1432</td>\n",
       "      <td>...</td>\n",
       "      <td>176931</td>\n",
       "      <td>18906</td>\n",
       "      <td>354212</td>\n",
       "      <td>367912</td>\n",
       "      <td>1894</td>\n",
       "      <td>0</td>\n",
       "      <td>1534</td>\n",
       "      <td>3730</td>\n",
       "      <td>1730</td>\n",
       "      <td>5013</td>\n",
       "    </tr>\n",
       "    <tr>\n",
       "      <th>ADIYAMAN</th>\n",
       "      <td>5</td>\n",
       "      <td>338</td>\n",
       "      <td>75</td>\n",
       "      <td>428</td>\n",
       "      <td>52</td>\n",
       "      <td>103</td>\n",
       "      <td>239</td>\n",
       "      <td>199</td>\n",
       "      <td>1105</td>\n",
       "      <td>425</td>\n",
       "      <td>...</td>\n",
       "      <td>69390</td>\n",
       "      <td>6006</td>\n",
       "      <td>34795</td>\n",
       "      <td>178344</td>\n",
       "      <td>539</td>\n",
       "      <td>0</td>\n",
       "      <td>303</td>\n",
       "      <td>332</td>\n",
       "      <td>634</td>\n",
       "      <td>0</td>\n",
       "    </tr>\n",
       "    <tr>\n",
       "      <th>AFYONKARAHİSAR</th>\n",
       "      <td>5</td>\n",
       "      <td>524</td>\n",
       "      <td>208</td>\n",
       "      <td>0</td>\n",
       "      <td>61</td>\n",
       "      <td>391</td>\n",
       "      <td>0</td>\n",
       "      <td>292</td>\n",
       "      <td>1730</td>\n",
       "      <td>1111</td>\n",
       "      <td>...</td>\n",
       "      <td>4386</td>\n",
       "      <td>9264</td>\n",
       "      <td>71042</td>\n",
       "      <td>222400</td>\n",
       "      <td>1292</td>\n",
       "      <td>0</td>\n",
       "      <td>2186</td>\n",
       "      <td>878</td>\n",
       "      <td>721</td>\n",
       "      <td>0</td>\n",
       "    </tr>\n",
       "    <tr>\n",
       "      <th>AĞRI</th>\n",
       "      <td>4</td>\n",
       "      <td>0</td>\n",
       "      <td>104</td>\n",
       "      <td>334</td>\n",
       "      <td>34</td>\n",
       "      <td>57</td>\n",
       "      <td>0</td>\n",
       "      <td>0</td>\n",
       "      <td>448</td>\n",
       "      <td>331</td>\n",
       "      <td>...</td>\n",
       "      <td>185329</td>\n",
       "      <td>1311</td>\n",
       "      <td>2338</td>\n",
       "      <td>37609</td>\n",
       "      <td>217</td>\n",
       "      <td>0</td>\n",
       "      <td>100</td>\n",
       "      <td>60</td>\n",
       "      <td>625</td>\n",
       "      <td>1994</td>\n",
       "    </tr>\n",
       "    <tr>\n",
       "      <th>AKSARAY</th>\n",
       "      <td>3</td>\n",
       "      <td>136</td>\n",
       "      <td>74</td>\n",
       "      <td>362</td>\n",
       "      <td>33</td>\n",
       "      <td>144</td>\n",
       "      <td>75</td>\n",
       "      <td>147</td>\n",
       "      <td>0</td>\n",
       "      <td>477</td>\n",
       "      <td>...</td>\n",
       "      <td>3418</td>\n",
       "      <td>2689</td>\n",
       "      <td>13700</td>\n",
       "      <td>119873</td>\n",
       "      <td>528</td>\n",
       "      <td>46</td>\n",
       "      <td>297</td>\n",
       "      <td>233</td>\n",
       "      <td>441</td>\n",
       "      <td>0</td>\n",
       "    </tr>\n",
       "  </tbody>\n",
       "</table>\n",
       "<p>5 rows × 22 columns</p>\n",
       "</div>"
      ],
      "text/plain": [
       "                Seats   DYP  ANADOLU PARTİSİ  HAK-PAR   KP  MİLLET  HAP  MEP  \\\n",
       "İL ADI                                                                         \n",
       "ADANA              14  1098              590     1265  310     509    0  643   \n",
       "ADIYAMAN            5   338               75      428   52     103  239  199   \n",
       "AFYONKARAHİSAR      5   524              208        0   61     391    0  292   \n",
       "AĞRI                4     0              104      334   34      57    0    0   \n",
       "AKSARAY             3   136               74      362   33     144   75  147   \n",
       "\n",
       "                TURK PARTİ   HKP        ...            HDP  SAADET     CHP  \\\n",
       "İL ADI                                  ...                                  \n",
       "ADANA                 2199  1432        ...         176931   18906  354212   \n",
       "ADIYAMAN              1105   425        ...          69390    6006   34795   \n",
       "AFYONKARAHİSAR        1730  1111        ...           4386    9264   71042   \n",
       "AĞRI                   448   331        ...         185329    1311    2338   \n",
       "AKSARAY                  0   477        ...           3418    2689   13700   \n",
       "\n",
       "                AK PARTİ   DSP  YURT-P    DP  VATAN PARTİSİ   BTP  \\\n",
       "İL ADI                                                              \n",
       "ADANA             367912  1894       0  1534           3730  1730   \n",
       "ADIYAMAN          178344   539       0   303            332   634   \n",
       "AFYONKARAHİSAR    222400  1292       0  2186            878   721   \n",
       "AĞRI               37609   217       0   100             60   625   \n",
       "AKSARAY           119873   528      46   297            233   441   \n",
       "\n",
       "                BAGIMSIZ TOPLAMI  \n",
       "İL ADI                            \n",
       "ADANA                       5013  \n",
       "ADIYAMAN                       0  \n",
       "AFYONKARAHİSAR                 0  \n",
       "AĞRI                        1994  \n",
       "AKSARAY                        0  \n",
       "\n",
       "[5 rows x 22 columns]"
      ]
     },
     "execution_count": 2,
     "metadata": {},
     "output_type": "execute_result"
    }
   ],
   "source": [
    "PROVINCE = 'İL ADI'\n",
    "df = pd.read_excel('results/turkey-june.xls').set_index(PROVINCE)\n",
    "df.head()"
   ]
  },
  {
   "cell_type": "code",
   "execution_count": 75,
   "metadata": {
    "collapsed": false
   },
   "outputs": [],
   "source": [
    "parties = list(df.columns)\n",
    "parties.remove('Seats')\n",
    "if 'winner' in parties: parties.remove('winner')"
   ]
  },
  {
   "cell_type": "code",
   "execution_count": 4,
   "metadata": {
    "collapsed": false
   },
   "outputs": [],
   "source": [
    "def dHondt(name, row, parties):\n",
    "    seats = int(row['Seats'])\n",
    "    votes = [row[p] for p in parties]\n",
    "    denominators = range(1,seats+1)\n",
    "    coeffs = [[{ 'party' : parties[idx], 'coeff' : v/d} for d in denominators] for idx,v in enumerate(votes)]\n",
    "    ranked_list = sorted([item for sublist in coeffs for item in sublist], key=lambda x:x['coeff'])\n",
    "    winners = pd.DataFrame(ranked_list[-seats:])\n",
    "    results = winners.groupby('party').count().rename(columns={'coeff':'seats'}).reset_index()\n",
    "    results['province'] = name\n",
    "    return results"
   ]
  },
  {
   "cell_type": "code",
   "execution_count": 8,
   "metadata": {
    "collapsed": false
   },
   "outputs": [
    {
     "data": {
      "text/html": [
       "<div>\n",
       "<table border=\"1\" class=\"dataframe\">\n",
       "  <thead>\n",
       "    <tr style=\"text-align: right;\">\n",
       "      <th></th>\n",
       "      <th>party</th>\n",
       "      <th>seats</th>\n",
       "      <th>province</th>\n",
       "    </tr>\n",
       "  </thead>\n",
       "  <tbody>\n",
       "    <tr>\n",
       "      <th>0</th>\n",
       "      <td>AK PARTİ</td>\n",
       "      <td>227</td>\n",
       "      <td>national</td>\n",
       "    </tr>\n",
       "    <tr>\n",
       "      <th>1</th>\n",
       "      <td>BAGIMSIZ TOPLAMI</td>\n",
       "      <td>6</td>\n",
       "      <td>national</td>\n",
       "    </tr>\n",
       "    <tr>\n",
       "      <th>2</th>\n",
       "      <td>BTP</td>\n",
       "      <td>1</td>\n",
       "      <td>national</td>\n",
       "    </tr>\n",
       "    <tr>\n",
       "      <th>3</th>\n",
       "      <td>CHP</td>\n",
       "      <td>140</td>\n",
       "      <td>national</td>\n",
       "    </tr>\n",
       "    <tr>\n",
       "      <th>4</th>\n",
       "      <td>DSP</td>\n",
       "      <td>1</td>\n",
       "      <td>national</td>\n",
       "    </tr>\n",
       "    <tr>\n",
       "      <th>5</th>\n",
       "      <td>HDP</td>\n",
       "      <td>72</td>\n",
       "      <td>national</td>\n",
       "    </tr>\n",
       "    <tr>\n",
       "      <th>6</th>\n",
       "      <td>MHP</td>\n",
       "      <td>91</td>\n",
       "      <td>national</td>\n",
       "    </tr>\n",
       "    <tr>\n",
       "      <th>7</th>\n",
       "      <td>SAADET</td>\n",
       "      <td>11</td>\n",
       "      <td>national</td>\n",
       "    </tr>\n",
       "    <tr>\n",
       "      <th>8</th>\n",
       "      <td>VATAN PARTİSİ</td>\n",
       "      <td>1</td>\n",
       "      <td>national</td>\n",
       "    </tr>\n",
       "  </tbody>\n",
       "</table>\n",
       "</div>"
      ],
      "text/plain": [
       "              party  seats  province\n",
       "0          AK PARTİ    227  national\n",
       "1  BAGIMSIZ TOPLAMI      6  national\n",
       "2               BTP      1  national\n",
       "3               CHP    140  national\n",
       "4               DSP      1  national\n",
       "5               HDP     72  national\n",
       "6               MHP     91  national\n",
       "7            SAADET     11  national\n",
       "8     VATAN PARTİSİ      1  national"
      ]
     },
     "execution_count": 8,
     "metadata": {},
     "output_type": "execute_result"
    }
   ],
   "source": [
    "dHondt('national', df.sum(), parties)"
   ]
  },
  {
   "cell_type": "code",
   "execution_count": 6,
   "metadata": {
    "collapsed": false
   },
   "outputs": [
    {
     "data": {
      "text/html": [
       "<div>\n",
       "<table border=\"1\" class=\"dataframe\">\n",
       "  <thead>\n",
       "    <tr style=\"text-align: right;\">\n",
       "      <th></th>\n",
       "      <th>seats</th>\n",
       "    </tr>\n",
       "    <tr>\n",
       "      <th>party</th>\n",
       "      <th></th>\n",
       "    </tr>\n",
       "  </thead>\n",
       "  <tbody>\n",
       "    <tr>\n",
       "      <th>AK PARTİ</th>\n",
       "      <td>256</td>\n",
       "    </tr>\n",
       "    <tr>\n",
       "      <th>BAGIMSIZ TOPLAMI</th>\n",
       "      <td>1</td>\n",
       "    </tr>\n",
       "    <tr>\n",
       "      <th>CHP</th>\n",
       "      <td>133</td>\n",
       "    </tr>\n",
       "    <tr>\n",
       "      <th>HDP</th>\n",
       "      <td>78</td>\n",
       "    </tr>\n",
       "    <tr>\n",
       "      <th>MHP</th>\n",
       "      <td>82</td>\n",
       "    </tr>\n",
       "  </tbody>\n",
       "</table>\n",
       "</div>"
      ],
      "text/plain": [
       "                  seats\n",
       "party                  \n",
       "AK PARTİ            256\n",
       "BAGIMSIZ TOPLAMI      1\n",
       "CHP                 133\n",
       "HDP                  78\n",
       "MHP                  82"
      ]
     },
     "execution_count": 6,
     "metadata": {},
     "output_type": "execute_result"
    }
   ],
   "source": [
    "provinces = [dHondt(row[0],row[1],parties) for row in df.iterrows()]\n",
    "pd.concat(provinces).groupby('party').sum()"
   ]
  },
  {
   "cell_type": "code",
   "execution_count": 16,
   "metadata": {
    "collapsed": false
   },
   "outputs": [],
   "source": [
    "df['winner'] = df.idxmax(axis=1)"
   ]
  },
  {
   "cell_type": "code",
   "execution_count": 57,
   "metadata": {
    "collapsed": false
   },
   "outputs": [
    {
     "data": {
      "text/plain": [
       "winner\n",
       "AK PARTİ    412\n",
       "CHP          77\n",
       "HDP          57\n",
       "MHP           4\n",
       "Name: Seats, dtype: int64"
      ]
     },
     "execution_count": 57,
     "metadata": {},
     "output_type": "execute_result"
    }
   ],
   "source": [
    "df.groupby('winner').sum()['Seats']"
   ]
  },
  {
   "cell_type": "code",
   "execution_count": 48,
   "metadata": {
    "collapsed": false
   },
   "outputs": [
    {
     "data": {
      "text/html": [
       "<div>\n",
       "<table border=\"1\" class=\"dataframe\">\n",
       "  <thead>\n",
       "    <tr style=\"text-align: right;\">\n",
       "      <th></th>\n",
       "      <th>Seats</th>\n",
       "      <th>MİLLET</th>\n",
       "      <th>VATAN PARTİSİ</th>\n",
       "      <th>CHP</th>\n",
       "      <th>HAK-PAR</th>\n",
       "      <th>SAADET</th>\n",
       "      <th>DSP</th>\n",
       "      <th>DP</th>\n",
       "      <th>BTP</th>\n",
       "      <th>MHP</th>\n",
       "      <th>HKP</th>\n",
       "      <th>LDP</th>\n",
       "      <th>HDP</th>\n",
       "      <th>BBP</th>\n",
       "      <th>AK PARTİ</th>\n",
       "      <th>KP</th>\n",
       "      <th>DYP</th>\n",
       "      <th>BAGIMSIZ TOPLAMI</th>\n",
       "    </tr>\n",
       "    <tr>\n",
       "      <th>İL ADI</th>\n",
       "      <th></th>\n",
       "      <th></th>\n",
       "      <th></th>\n",
       "      <th></th>\n",
       "      <th></th>\n",
       "      <th></th>\n",
       "      <th></th>\n",
       "      <th></th>\n",
       "      <th></th>\n",
       "      <th></th>\n",
       "      <th></th>\n",
       "      <th></th>\n",
       "      <th></th>\n",
       "      <th></th>\n",
       "      <th></th>\n",
       "      <th></th>\n",
       "      <th></th>\n",
       "      <th></th>\n",
       "    </tr>\n",
       "  </thead>\n",
       "  <tbody>\n",
       "    <tr>\n",
       "      <th>ADANA</th>\n",
       "      <td>14</td>\n",
       "      <td>481</td>\n",
       "      <td>2838</td>\n",
       "      <td>373629</td>\n",
       "      <td>2578</td>\n",
       "      <td>7998</td>\n",
       "      <td>773</td>\n",
       "      <td>1447</td>\n",
       "      <td>1088</td>\n",
       "      <td>246053</td>\n",
       "      <td>2055</td>\n",
       "      <td>867</td>\n",
       "      <td>146909</td>\n",
       "      <td>4864</td>\n",
       "      <td>462199</td>\n",
       "      <td>602</td>\n",
       "      <td>0</td>\n",
       "      <td>0</td>\n",
       "    </tr>\n",
       "    <tr>\n",
       "      <th>ADIYAMAN</th>\n",
       "      <td>5</td>\n",
       "      <td>95</td>\n",
       "      <td>333</td>\n",
       "      <td>35948</td>\n",
       "      <td>693</td>\n",
       "      <td>2061</td>\n",
       "      <td>109</td>\n",
       "      <td>217</td>\n",
       "      <td>175</td>\n",
       "      <td>9467</td>\n",
       "      <td>428</td>\n",
       "      <td>220</td>\n",
       "      <td>45294</td>\n",
       "      <td>1824</td>\n",
       "      <td>222121</td>\n",
       "      <td>542</td>\n",
       "      <td>107</td>\n",
       "      <td>0</td>\n",
       "    </tr>\n",
       "    <tr>\n",
       "      <th>AFYONKARAHİSAR</th>\n",
       "      <td>5</td>\n",
       "      <td>319</td>\n",
       "      <td>808</td>\n",
       "      <td>69995</td>\n",
       "      <td>0</td>\n",
       "      <td>3411</td>\n",
       "      <td>305</td>\n",
       "      <td>1701</td>\n",
       "      <td>481</td>\n",
       "      <td>73375</td>\n",
       "      <td>956</td>\n",
       "      <td>134</td>\n",
       "      <td>2343</td>\n",
       "      <td>3052</td>\n",
       "      <td>273718</td>\n",
       "      <td>640</td>\n",
       "      <td>311</td>\n",
       "      <td>0</td>\n",
       "    </tr>\n",
       "    <tr>\n",
       "      <th>AĞRI</th>\n",
       "      <td>4</td>\n",
       "      <td>49</td>\n",
       "      <td>83</td>\n",
       "      <td>2783</td>\n",
       "      <td>491</td>\n",
       "      <td>672</td>\n",
       "      <td>127</td>\n",
       "      <td>136</td>\n",
       "      <td>174</td>\n",
       "      <td>3274</td>\n",
       "      <td>403</td>\n",
       "      <td>814</td>\n",
       "      <td>145535</td>\n",
       "      <td>1202</td>\n",
       "      <td>57767</td>\n",
       "      <td>123</td>\n",
       "      <td>0</td>\n",
       "      <td>0</td>\n",
       "    </tr>\n",
       "    <tr>\n",
       "      <th>AKSARAY</th>\n",
       "      <td>3</td>\n",
       "      <td>110</td>\n",
       "      <td>194</td>\n",
       "      <td>15561</td>\n",
       "      <td>491</td>\n",
       "      <td>859</td>\n",
       "      <td>112</td>\n",
       "      <td>273</td>\n",
       "      <td>311</td>\n",
       "      <td>38248</td>\n",
       "      <td>451</td>\n",
       "      <td>0</td>\n",
       "      <td>1627</td>\n",
       "      <td>1264</td>\n",
       "      <td>151403</td>\n",
       "      <td>367</td>\n",
       "      <td>73</td>\n",
       "      <td>0</td>\n",
       "    </tr>\n",
       "  </tbody>\n",
       "</table>\n",
       "</div>"
      ],
      "text/plain": [
       "                Seats  MİLLET  VATAN PARTİSİ     CHP  HAK-PAR  SAADET  DSP  \\\n",
       "İL ADI                                                                       \n",
       "ADANA              14     481           2838  373629     2578    7998  773   \n",
       "ADIYAMAN            5      95            333   35948      693    2061  109   \n",
       "AFYONKARAHİSAR      5     319            808   69995        0    3411  305   \n",
       "AĞRI                4      49             83    2783      491     672  127   \n",
       "AKSARAY             3     110            194   15561      491     859  112   \n",
       "\n",
       "                  DP   BTP     MHP   HKP  LDP     HDP   BBP  AK PARTİ   KP  \\\n",
       "İL ADI                                                                       \n",
       "ADANA           1447  1088  246053  2055  867  146909  4864    462199  602   \n",
       "ADIYAMAN         217   175    9467   428  220   45294  1824    222121  542   \n",
       "AFYONKARAHİSAR  1701   481   73375   956  134    2343  3052    273718  640   \n",
       "AĞRI             136   174    3274   403  814  145535  1202     57767  123   \n",
       "AKSARAY          273   311   38248   451    0    1627  1264    151403  367   \n",
       "\n",
       "                DYP  BAGIMSIZ TOPLAMI  \n",
       "İL ADI                                 \n",
       "ADANA             0                 0  \n",
       "ADIYAMAN        107                 0  \n",
       "AFYONKARAHİSAR  311                 0  \n",
       "AĞRI              0                 0  \n",
       "AKSARAY          73                 0  "
      ]
     },
     "execution_count": 48,
     "metadata": {},
     "output_type": "execute_result"
    }
   ],
   "source": [
    "df_nov = pd.read_excel('results/turkey-november.xls').set_index(PROVINCE)\n",
    "df_nov.head()"
   ]
  },
  {
   "cell_type": "code",
   "execution_count": 80,
   "metadata": {
    "collapsed": false
   },
   "outputs": [
    {
     "data": {
      "text/html": [
       "<div>\n",
       "<table border=\"1\" class=\"dataframe\">\n",
       "  <thead>\n",
       "    <tr style=\"text-align: right;\">\n",
       "      <th></th>\n",
       "      <th>party</th>\n",
       "      <th>seats</th>\n",
       "      <th>province</th>\n",
       "    </tr>\n",
       "  </thead>\n",
       "  <tbody>\n",
       "    <tr>\n",
       "      <th>0</th>\n",
       "      <td>AK PARTİ</td>\n",
       "      <td>276</td>\n",
       "      <td>national</td>\n",
       "    </tr>\n",
       "    <tr>\n",
       "      <th>1</th>\n",
       "      <td>BBP</td>\n",
       "      <td>2</td>\n",
       "      <td>national</td>\n",
       "    </tr>\n",
       "    <tr>\n",
       "      <th>2</th>\n",
       "      <td>CHP</td>\n",
       "      <td>142</td>\n",
       "      <td>national</td>\n",
       "    </tr>\n",
       "    <tr>\n",
       "      <th>3</th>\n",
       "      <td>HAK-PAR</td>\n",
       "      <td>1</td>\n",
       "      <td>national</td>\n",
       "    </tr>\n",
       "    <tr>\n",
       "      <th>4</th>\n",
       "      <td>HDP</td>\n",
       "      <td>58</td>\n",
       "      <td>national</td>\n",
       "    </tr>\n",
       "    <tr>\n",
       "      <th>5</th>\n",
       "      <td>MHP</td>\n",
       "      <td>67</td>\n",
       "      <td>national</td>\n",
       "    </tr>\n",
       "    <tr>\n",
       "      <th>6</th>\n",
       "      <td>SAADET</td>\n",
       "      <td>3</td>\n",
       "      <td>national</td>\n",
       "    </tr>\n",
       "    <tr>\n",
       "      <th>7</th>\n",
       "      <td>VATAN PARTİSİ</td>\n",
       "      <td>1</td>\n",
       "      <td>national</td>\n",
       "    </tr>\n",
       "  </tbody>\n",
       "</table>\n",
       "</div>"
      ],
      "text/plain": [
       "           party  seats  province\n",
       "0       AK PARTİ    276  national\n",
       "1            BBP      2  national\n",
       "2            CHP    142  national\n",
       "3        HAK-PAR      1  national\n",
       "4            HDP     58  national\n",
       "5            MHP     67  national\n",
       "6         SAADET      3  national\n",
       "7  VATAN PARTİSİ      1  national"
      ]
     },
     "execution_count": 80,
     "metadata": {},
     "output_type": "execute_result"
    }
   ],
   "source": [
    "parties_nov = list(df_nov.columns)\n",
    "parties_nov.remove('Seats')\n",
    "if 'winner' in parties_nov: parties_nov.remove('winner')\n",
    "dHondt('national', df_nov.sum(), parties_nov)"
   ]
  },
  {
   "cell_type": "code",
   "execution_count": 56,
   "metadata": {
    "collapsed": false,
    "scrolled": true
   },
   "outputs": [
    {
     "data": {
      "text/plain": [
       "winner\n",
       "AK PARTİ    446\n",
       "CHP          51\n",
       "HDP          53\n",
       "Name: Seats, dtype: int64"
      ]
     },
     "execution_count": 56,
     "metadata": {},
     "output_type": "execute_result"
    }
   ],
   "source": [
    "df_nov['winner'] = df_nov[parties_nov].idxmax(axis=1)\n",
    "df_nov.groupby('winner').sum()['Seats']"
   ]
  },
  {
   "cell_type": "code",
   "execution_count": 92,
   "metadata": {
    "collapsed": false
   },
   "outputs": [
    {
     "data": {
      "text/plain": [
       "2163533"
      ]
     },
     "execution_count": 92,
     "metadata": {},
     "output_type": "execute_result"
    }
   ],
   "source": [
    "vote_tallies = df[parties].sum().sort_values()\n",
    "dq_parties = vote_tallies[:-4]\n",
    "dq_parties.sum()"
   ]
  },
  {
   "cell_type": "code",
   "execution_count": 93,
   "metadata": {
    "collapsed": false
   },
   "outputs": [
    {
     "data": {
      "text/plain": [
       "0.047981308443962735"
      ]
     },
     "execution_count": 93,
     "metadata": {},
     "output_type": "execute_result"
    }
   ],
   "source": [
    "dq_parties.sum()/vote_tallies.sum()"
   ]
  },
  {
   "cell_type": "code",
   "execution_count": 95,
   "metadata": {
    "collapsed": false
   },
   "outputs": [
    {
     "data": {
      "text/plain": [
       "1177583"
      ]
     },
     "execution_count": 95,
     "metadata": {},
     "output_type": "execute_result"
    }
   ],
   "source": [
    "nov_tallies = df_nov[parties_nov].sum().sort_values()\n",
    "dq_parties_nov = nov_tallies[:-4]\n",
    "dq_parties_nov.sum()"
   ]
  },
  {
   "cell_type": "code",
   "execution_count": null,
   "metadata": {
    "collapsed": true
   },
   "outputs": [],
   "source": []
  }
 ],
 "metadata": {
  "kernelspec": {
   "display_name": "Python 3",
   "language": "python",
   "name": "python3"
  },
  "language_info": {
   "codemirror_mode": {
    "name": "ipython",
    "version": 3
   },
   "file_extension": ".py",
   "mimetype": "text/x-python",
   "name": "python",
   "nbconvert_exporter": "python",
   "pygments_lexer": "ipython3",
   "version": "3.4.3"
  }
 },
 "nbformat": 4,
 "nbformat_minor": 0
}
