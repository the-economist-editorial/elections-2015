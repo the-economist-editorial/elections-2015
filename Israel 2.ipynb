{
 "cells": [
  {
   "cell_type": "code",
   "execution_count": 1,
   "metadata": {
    "collapsed": true
   },
   "outputs": [],
   "source": [
    "import pandas as pd"
   ]
  },
  {
   "cell_type": "code",
   "execution_count": 10,
   "metadata": {
    "collapsed": false
   },
   "outputs": [],
   "source": [
    "totals_raw = [\n",
    "    { 'party' : 'Likud', 'votes' : 985408 },\n",
    "    { 'party' : 'Zionist Union', 'votes' : 786313 },\n",
    "    { 'party' : 'Joint List', 'votes' : 446583 },\n",
    "    { 'party' : 'Yesh Atid', 'votes' : 371602 },\n",
    "    { 'party' : 'Kulanu', 'votes' : 315360 },\n",
    "    { 'party' : 'The Jewish Home', 'votes' : 283910 },\n",
    "    { 'party' : 'Shas', 'votes' : 241613 },\n",
    "    { 'party' : 'Yisrael Beiteinu', 'votes' : 214906 },\n",
    "    { 'party' : 'United Torah Judaism', 'votes' : 210143 },\n",
    "    { 'party' : 'Meretz', 'votes' : 165529 },\n",
    "    { 'party' : 'Yachad', 'votes' : 125158 },\n",
    "    { 'party' : 'Ale Yarok', 'votes' : 47180 },\n",
    "    { 'party' : 'Arab List', 'votes' : 4301 },\n",
    "    { 'party' : 'The Greens', 'votes' : 2992 },\n",
    "    { 'party' : 'Na Nach', 'votes' : 2493 },\n",
    "    { 'party' : 'U’Bizchutan', 'votes' : 1802 },\n",
    "    { 'party' : 'Hope for Change', 'votes' : 1385 },\n",
    "    { 'party' : 'Pirate Party of Israel', 'votes' : 895 },\n",
    "    { 'party' : 'Flower Party', 'votes' : 823 },\n",
    "    { 'party' : 'Brit Olam', 'votes' : 761 },\n",
    "    { 'party' : 'Or', 'votes' : 502 },\n",
    "    { 'party' : 'Living with Dignity', 'votes' : 423 },\n",
    "    { 'party' : 'Economy Party', 'votes' : 337 },\n",
    "    { 'party' : 'Democratura', 'votes' : 242 },\n",
    "    { 'party' : 'Social Leadership', 'votes' : 223 },\n",
    "]"
   ]
  },
  {
   "cell_type": "code",
   "execution_count": 26,
   "metadata": {
    "collapsed": false,
    "scrolled": true
   },
   "outputs": [
    {
     "data": {
      "text/html": [
       "<div>\n",
       "<table border=\"1\" class=\"dataframe\">\n",
       "  <thead>\n",
       "    <tr style=\"text-align: right;\">\n",
       "      <th></th>\n",
       "      <th>party</th>\n",
       "      <th>votes</th>\n",
       "      <th>percent</th>\n",
       "    </tr>\n",
       "  </thead>\n",
       "  <tbody>\n",
       "    <tr>\n",
       "      <th>0</th>\n",
       "      <td>Likud</td>\n",
       "      <td>985408</td>\n",
       "      <td>0.234015</td>\n",
       "    </tr>\n",
       "    <tr>\n",
       "      <th>1</th>\n",
       "      <td>Zionist Union</td>\n",
       "      <td>786313</td>\n",
       "      <td>0.186733</td>\n",
       "    </tr>\n",
       "    <tr>\n",
       "      <th>2</th>\n",
       "      <td>Joint List</td>\n",
       "      <td>446583</td>\n",
       "      <td>0.106054</td>\n",
       "    </tr>\n",
       "    <tr>\n",
       "      <th>3</th>\n",
       "      <td>Yesh Atid</td>\n",
       "      <td>371602</td>\n",
       "      <td>0.088248</td>\n",
       "    </tr>\n",
       "    <tr>\n",
       "      <th>4</th>\n",
       "      <td>Kulanu</td>\n",
       "      <td>315360</td>\n",
       "      <td>0.074892</td>\n",
       "    </tr>\n",
       "  </tbody>\n",
       "</table>\n",
       "</div>"
      ],
      "text/plain": [
       "           party   votes   percent\n",
       "0          Likud  985408  0.234015\n",
       "1  Zionist Union  786313  0.186733\n",
       "2     Joint List  446583  0.106054\n",
       "3      Yesh Atid  371602  0.088248\n",
       "4         Kulanu  315360  0.074892"
      ]
     },
     "execution_count": 26,
     "metadata": {},
     "output_type": "execute_result"
    }
   ],
   "source": [
    "totals = pd.DataFrame(totals_raw)\n",
    "vote_sum = totals.votes.sum()\n",
    "totals['percent'] = totals['votes']/vote_sum\n",
    "totals.head()"
   ]
  },
  {
   "cell_type": "code",
   "execution_count": 49,
   "metadata": {
    "collapsed": false
   },
   "outputs": [],
   "source": [
    "def dHondt(name, row, parties):\n",
    "    seats = 120\n",
    "    votes = [row[p] for p in parties]\n",
    "    denominators = range(1,seats+1)\n",
    "    coeffs = [[{ 'party' : parties[idx], 'coeff' : v/d} for d in denominators] for idx,v in enumerate(votes)]\n",
    "    ranked_list = sorted([item for sublist in coeffs for item in sublist], key=lambda x:x['coeff'])\n",
    "    winners = pd.DataFrame(ranked_list[-seats:])\n",
    "    results = winners.groupby('party').count().rename(columns={'coeff':'seats'}).reset_index()\n",
    "    results['Region'] = name\n",
    "    return results"
   ]
  },
  {
   "cell_type": "code",
   "execution_count": 50,
   "metadata": {
    "collapsed": false
   },
   "outputs": [
    {
     "data": {
      "text/plain": [
       "party\n",
       "Likud                     985408\n",
       "Zionist Union             786313\n",
       "Joint List                446583\n",
       "Yesh Atid                 371602\n",
       "Kulanu                    315360\n",
       "The Jewish Home           283910\n",
       "Shas                      241613\n",
       "Yisrael Beiteinu          214906\n",
       "United Torah Judaism      210143\n",
       "Meretz                    165529\n",
       "Yachad                    125158\n",
       "Ale Yarok                  47180\n",
       "Arab List                   4301\n",
       "The Greens                  2992\n",
       "Na Nach                     2493\n",
       "U’Bizchutan                 1802\n",
       "Hope for Change             1385\n",
       "Pirate Party of Israel       895\n",
       "Flower Party                 823\n",
       "Brit Olam                    761\n",
       "Or                           502\n",
       "Living with Dignity          423\n",
       "Economy Party                337\n",
       "Democratura                  242\n",
       "Social Leadership            223\n",
       "Name: votes, dtype: int64"
      ]
     },
     "execution_count": 50,
     "metadata": {},
     "output_type": "execute_result"
    }
   ],
   "source": [
    "totals.set_index('party')['votes'].transpose()"
   ]
  },
  {
   "cell_type": "code",
   "execution_count": 74,
   "metadata": {
    "collapsed": false
   },
   "outputs": [
    {
     "data": {
      "text/html": [
       "<div>\n",
       "<table border=\"1\" class=\"dataframe\">\n",
       "  <thead>\n",
       "    <tr style=\"text-align: right;\">\n",
       "      <th></th>\n",
       "      <th>party</th>\n",
       "      <th>seats</th>\n",
       "      <th>Region</th>\n",
       "    </tr>\n",
       "  </thead>\n",
       "  <tbody>\n",
       "    <tr>\n",
       "      <th>2</th>\n",
       "      <td>Likud</td>\n",
       "      <td>33</td>\n",
       "      <td>national</td>\n",
       "    </tr>\n",
       "    <tr>\n",
       "      <th>7</th>\n",
       "      <td>Zionist Union</td>\n",
       "      <td>26</td>\n",
       "      <td>national</td>\n",
       "    </tr>\n",
       "    <tr>\n",
       "      <th>0</th>\n",
       "      <td>Joint List</td>\n",
       "      <td>15</td>\n",
       "      <td>national</td>\n",
       "    </tr>\n",
       "    <tr>\n",
       "      <th>5</th>\n",
       "      <td>Yesh Atid</td>\n",
       "      <td>12</td>\n",
       "      <td>national</td>\n",
       "    </tr>\n",
       "    <tr>\n",
       "      <th>1</th>\n",
       "      <td>Kulanu</td>\n",
       "      <td>10</td>\n",
       "      <td>national</td>\n",
       "    </tr>\n",
       "    <tr>\n",
       "      <th>4</th>\n",
       "      <td>The Jewish Home</td>\n",
       "      <td>9</td>\n",
       "      <td>national</td>\n",
       "    </tr>\n",
       "    <tr>\n",
       "      <th>3</th>\n",
       "      <td>Shas</td>\n",
       "      <td>8</td>\n",
       "      <td>national</td>\n",
       "    </tr>\n",
       "    <tr>\n",
       "      <th>6</th>\n",
       "      <td>Yisrael Beiteinu</td>\n",
       "      <td>7</td>\n",
       "      <td>national</td>\n",
       "    </tr>\n",
       "  </tbody>\n",
       "</table>\n",
       "</div>"
      ],
      "text/plain": [
       "              party  seats    Region\n",
       "2             Likud     33  national\n",
       "7     Zionist Union     26  national\n",
       "0        Joint List     15  national\n",
       "5         Yesh Atid     12  national\n",
       "1            Kulanu     10  national\n",
       "4   The Jewish Home      9  national\n",
       "3              Shas      8  national\n",
       "6  Yisrael Beiteinu      7  national"
      ]
     },
     "execution_count": 74,
     "metadata": {},
     "output_type": "execute_result"
    }
   ],
   "source": [
    "parties = totals[totals['percent'] > 0.05]['party']\n",
    "dHondt('national', totals.set_index('party')['votes'].transpose(), parties).sort_values('seats', ascending=False)"
   ]
  },
  {
   "cell_type": "code",
   "execution_count": null,
   "metadata": {
    "collapsed": true
   },
   "outputs": [],
   "source": []
  }
 ],
 "metadata": {
  "kernelspec": {
   "display_name": "Python 3",
   "language": "python",
   "name": "python3"
  },
  "language_info": {
   "codemirror_mode": {
    "name": "ipython",
    "version": 3
   },
   "file_extension": ".py",
   "mimetype": "text/x-python",
   "name": "python",
   "nbconvert_exporter": "python",
   "pygments_lexer": "ipython3",
   "version": "3.4.3"
  }
 },
 "nbformat": 4,
 "nbformat_minor": 0
}
