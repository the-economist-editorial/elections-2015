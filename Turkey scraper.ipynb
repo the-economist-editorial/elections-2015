{
 "cells": [
  {
   "cell_type": "code",
   "execution_count": 1,
   "metadata": {
    "collapsed": true
   },
   "outputs": [],
   "source": [
    "from bs4 import BeautifulSoup as Soup\n",
    "import requests"
   ]
  },
  {
   "cell_type": "code",
   "execution_count": 2,
   "metadata": {
    "collapsed": true
   },
   "outputs": [],
   "source": [
    "URL = 'https://sonuc.ysk.gov.tr/module/ssps.jsf'"
   ]
  },
  {
   "cell_type": "code",
   "execution_count": 4,
   "metadata": {
    "collapsed": false
   },
   "outputs": [],
   "source": [
    "main_page = requests.get(URL)\n",
    "main_soup = Soup(main_page.text, 'html.parser')"
   ]
  },
  {
   "cell_type": "code",
   "execution_count": 7,
   "metadata": {
    "collapsed": false
   },
   "outputs": [
    {
     "data": {
      "text/plain": [
       "<select id=\"j_id48:j_id49:j_id108:cmbSecimCevresi\" name=\"j_id48:j_id49:j_id108:cmbSecimCevresi\" onchange=\"A4J.AJAX.Submit('j_id48',event,{'oncomplete':function(request,event,data){javascript:comboChanged('j_id48:j_id49:j_id108:cmbSecimCevresi')},'similarityGroupingId':'j_id48:j_id49:j_id108:j_id117','parameters':{'j_id48:j_id49:j_id108:j_id117':'j_id48:j_id49:j_id108:j_id117'} ,'actionUrl':'/module/ssps.jsf;jsessionid=BFB7E839A1A90CAA8BFB6FD69BFD0C6A'} )\" size=\"1\" style=\"width:275px\"></select>"
      ]
     },
     "execution_count": 7,
     "metadata": {},
     "output_type": "execute_result"
    }
   ],
   "source": [
    "main_soup.find(id=\"j_id48:j_id49:j_id108:cmbSecimCevresi\")"
   ]
  },
  {
   "cell_type": "code",
   "execution_count": 15,
   "metadata": {
    "collapsed": false
   },
   "outputs": [],
   "source": [
    "provs = {\n",
    "  u'ADANA' : 261031,\n",
    "  u'ADIYAMAN' : 261032,\n",
    "  u'AFYONKARAHİSAR' : 261033,\n",
    "  u'AĞRI' : 261034,\n",
    "  u'AKSARAY' : 261115,\n",
    "  u'AMASYA' : 261035,\n",
    "  u'ANKARA-1' : 261038,\n",
    "  u'ANKARA-2' : 261039,\n",
    "  u'ANTALYA' : 261051,\n",
    "  u'ARDAHAN' : 261122,\n",
    "  u'ARTVİN' : 261052,\n",
    "  u'AYDIN' : 261053,\n",
    "  u'BALIKESİR' : 261054,\n",
    "  u'BARTIN' : 261121,\n",
    "  u'BATMAN' : 261119,\n",
    "  u'BAYBURT' : 261116,\n",
    "  u'BİLECİK' : 261055,\n",
    "  u'BİNGÖL' : 261056,\n",
    "  u'BİTLİS' : 261057,\n",
    "  u'BOLU' : 261058,\n",
    "  u'BURDUR' : 261059,\n",
    "  u'BURSA' : 261060,\n",
    "  u'ÇANAKKALE' : 261061,\n",
    "  u'ÇANKIRI' : 261062,\n",
    "  u'ÇORUM' : 261063,\n",
    "  u'DENİZLİ' : 261064,\n",
    "  u'DİYARBAKIR' : 261065,\n",
    "  u'DÜZCE' : 261128,\n",
    "  u'EDİRNE' : 261066,\n",
    "  u'ELAZIĞ' : 261067,\n",
    "  u'ERZİNCAN' : 261068,\n",
    "  u'ERZURUM' : 261069,\n",
    "  u'ESKİŞEHİR' : 261070,\n",
    "  u'GAZİANTEP' : 261071,\n",
    "  u'GİRESUN' : 261072,\n",
    "  u'GÜMÜŞHANE' : 261073,\n",
    "  u'HAKKARİ' : 261074,\n",
    "  u'HATAY' : 261075,\n",
    "  u'IĞDIR' : 261123,\n",
    "  u'ISPARTA' : 261076,\n",
    "  u'İSTANBUL-1' : 261078,\n",
    "  u'İSTANBUL-2' : 261079,\n",
    "  u'İSTANBUL-3' : 261080,\n",
    "  u'İZMİR-1' : 261041,\n",
    "  u'İZMİR-2' : 261042,\n",
    "  u'KAHRAMANMARAŞ' : 261093,\n",
    "  u'KARABÜK' : 261125,\n",
    "  u'KARAMAN' : 261117,\n",
    "  u'KARS' : 261043,\n",
    "  u'KASTAMONU' : 261044,\n",
    "  u'KAYSERİ' : 261045,\n",
    "  u'KIRIKKALE' : 261118,\n",
    "  u'KIRKLARELİ' : 261046,\n",
    "  u'KIRŞEHİR' : 261047,\n",
    "  u'KİLİS' : 261126,\n",
    "  u'KOCAELİ' : 261048,\n",
    "  u'KONYA' : 261049,\n",
    "  u'KÜTAHYA' : 261050,\n",
    "  u'MALATYA' : 261091,\n",
    "  u'MANİSA' : 261092,\n",
    "  u'MARDİN' : 261094,\n",
    "  u'MERSİN' : 261077,\n",
    "  u'MUĞLA' : 261095,\n",
    "  u'MUŞ' : 261096,\n",
    "  u'NEVŞEHİR' : 261097,\n",
    "  u'NİĞDE' : 261098,\n",
    "  u'ORDU' : 261099,\n",
    "  u'OSMANİYE' : 261127,\n",
    "  u'RİZE' : 261100,\n",
    "  u'SAKARYA' : 261101,\n",
    "  u'SAMSUN' : 261102,\n",
    "  u'SİİRT' : 261103,\n",
    "  u'SİNOP' : 261104,\n",
    "  u'SİVAS' : 261105,\n",
    "  u'ŞANLIURFA' : 261110,\n",
    "  u'ŞIRNAK' : 261120,\n",
    "  u'TEKİRDAĞ' : 261106,\n",
    "  u'TOKAT' : 261107,\n",
    "  u'TRABZON' : 261108,\n",
    "  u'TUNCELİ' : 261109,\n",
    "  u'UŞAK' : 261111,\n",
    "  u'VAN' : 261112,\n",
    "  u'YALOVA' : 261124,\n",
    "  u'YOZGAT' : 261113,\n",
    "  u'ZONGULDAK' : 261114,\n",
    "}"
   ]
  },
  {
   "cell_type": "code",
   "execution_count": 16,
   "metadata": {
    "collapsed": false
   },
   "outputs": [
    {
     "data": {
      "text/plain": [
       "85"
      ]
     },
     "execution_count": 16,
     "metadata": {},
     "output_type": "execute_result"
    }
   ],
   "source": [
    "len(provs)"
   ]
  },
  {
   "cell_type": "markdown",
   "metadata": {},
   "source": [
    "https://sonuc.ysk.gov.tr/module/ssps.jsf?actionMethod=module%2Fssps.xhtml%3AexcelExporterSSPS.exportWithList%28sspsBeanYeni.getExcelParams%28%29%29&cid=580\n",
    "\n",
    "https://sonuc.ysk.gov.tr/module/ssps.jsf?actionMethod=module%2Fssps.xhtml%3AexcelExporterSSPS.exportWithList%28sspsBeanYeni.getExcelParams%28%29%29&cid=634\n",
    "\n",
    "https://sonuc.ysk.gov.tr/module/ssps.jsf?actionMethod=module%2Fssps.xhtml%3AexcelExporterSSPS.exportWithList%28sspsBeanYeni.getExcelParams%28%29%29&cid=63\n",
    "\n",
    "https://sonuc.ysk.gov.tr/module/ssps.jsf?actionMethod=module%2Fssps.xhtml%3AexcelExporterSSPS.exportWithList%28sspsBeanYeni.getExcelParams%28%29%29&cid=63\n",
    "\n",
    "https://sonuc.ysk.gov.tr/module/ssps.jsf?actionMethod=module%2Fssps.xhtml%3AexcelExporterSSPS.exportWithList%28sspsBeanYeni.getExcelParams%28%29%29&cid=63"
   ]
  }
 ],
 "metadata": {
  "kernelspec": {
   "display_name": "Python 2",
   "language": "python",
   "name": "python2"
  },
  "language_info": {
   "codemirror_mode": {
    "name": "ipython",
    "version": 2
   },
   "file_extension": ".py",
   "mimetype": "text/x-python",
   "name": "python",
   "nbconvert_exporter": "python",
   "pygments_lexer": "ipython2",
   "version": "2.7.10"
  }
 },
 "nbformat": 4,
 "nbformat_minor": 0
}
