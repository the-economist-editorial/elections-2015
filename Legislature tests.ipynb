{
 "cells": [
  {
   "cell_type": "code",
   "execution_count": 55,
   "metadata": {
    "collapsed": true
   },
   "outputs": [],
   "source": [
    "import numpy as np\n",
    "import scipy as sp\n",
    "import scipy.stats\n",
    "import csv"
   ]
  },
  {
   "cell_type": "code",
   "execution_count": 2,
   "metadata": {
    "collapsed": true
   },
   "outputs": [
    {
     "data": {
      "text/plain": [
       "[56.859269900339584,\n",
       " 59.3545335933515,\n",
       " 65.39598133590218,\n",
       " 64.94660132373342,\n",
       " 45.367148695372435,\n",
       " 58.536792938732084,\n",
       " 40.09072672428736,\n",
       " 62.58909398520636,\n",
       " 69.5278583810341,\n",
       " 48.045197773199625,\n",
       " 45.335305733456835,\n",
       " 58.26293985205911,\n",
       " 37.81026358321324,\n",
       " 47.40490838270374,\n",
       " 47.40297207603848,\n",
       " 41.364368703765095,\n",
       " 37.30792719798016,\n",
       " 43.21912134357436,\n",
       " 51.327346723438886,\n",
       " 54.55403370671512]"
      ]
     },
     "execution_count": 2,
     "metadata": {},
     "output_type": "execute_result"
    }
   ],
   "source": [
    "[np.random.normal(50, 10) for n in range(20)]"
   ]
  },
  {
   "cell_type": "code",
   "execution_count": 3,
   "metadata": {
    "collapsed": true
   },
   "outputs": [],
   "source": [
    "def boundedRandom(mu, sigma, top, bottom):\n",
    "    return sorted([top, np.random.normal(mu, sigma), bottom])[1]"
   ]
  },
  {
   "cell_type": "code",
   "execution_count": 172,
   "metadata": {
    "collapsed": false
   },
   "outputs": [],
   "source": [
    "class Legislator:\n",
    "    def __init__(self, alignment, reliability=0.2, majority=False):\n",
    "        self.mu = alignment\n",
    "        self.sigma = reliability\n",
    "        self.majority = majority\n",
    "    def vote(self):\n",
    "        return np.random.normal(self.mu, self.sigma)\n",
    "#         return boundedRandom(self.mu, self.sigma, 0, 1)"
   ]
  },
  {
   "cell_type": "code",
   "execution_count": 5,
   "metadata": {
    "collapsed": true
   },
   "outputs": [
    {
     "data": {
      "text/plain": [
       "[0.32617997765040474,\n",
       " 0.2702640139329612,\n",
       " 0.07190758622369459,\n",
       " 0.40749692359207834,\n",
       " 0.13788048304746106,\n",
       " 0.5849231359796203,\n",
       " 0.6662848372908419,\n",
       " 0.4770355116271705,\n",
       " 0,\n",
       " 0.06488181099196011,\n",
       " 0.4500230484790619,\n",
       " 0.4635269845276313,\n",
       " 0.4683179280112731,\n",
       " 0.5013340518453754,\n",
       " 0.11406345475251492,\n",
       " 1,\n",
       " 0.7243475897288714,\n",
       " 0.42721117827069477,\n",
       " 0.36331298604445933,\n",
       " 0.6017738337086318]"
      ]
     },
     "execution_count": 5,
     "metadata": {},
     "output_type": "execute_result"
    }
   ],
   "source": [
    "l = Legislator(0.3)\n",
    "[l.vote() for v in range(20)]"
   ]
  },
  {
   "cell_type": "code",
   "execution_count": 12,
   "metadata": {
    "collapsed": false
   },
   "outputs": [],
   "source": [
    "class Result:\n",
    "    def __init__(self, chamber):\n",
    "        self.threshold = len(chamber) / 2\n",
    "        self.votes = [l.vote() for l in chamber]\n",
    "        self.result = len([v for v in self.votes if v >= 0.5])\n",
    "    def __repr__(self):\n",
    "        return str(self.result)\n",
    "    def carried(self):\n",
    "        return self.result > self.threshold"
   ]
  },
  {
   "cell_type": "code",
   "execution_count": 174,
   "metadata": {
    "collapsed": false
   },
   "outputs": [],
   "source": [
    "class Legislature:\n",
    "    def __init__(self, members, majority, polarization=0.2, uniformity=0.2, eccentricity=0.1):\n",
    "        self.members = members\n",
    "        self.majority = majority\n",
    "        minority = members - majority\n",
    "        self.minority = minority\n",
    "        \n",
    "        if(minority < 0):\n",
    "            raise ValueError('Invalid legislature, majority larger than chamber')\n",
    "            \n",
    "        if(polarization > 0.5):\n",
    "            raise ValueError('Polarization too large')\n",
    "        if(polarization < 0):\n",
    "            raise ValueError('Polarization too small')\n",
    "        \n",
    "        majorityCenter = 0.5 + polarization\n",
    "        minorityCenter = 0.5 - polarization\n",
    "        \n",
    "        chamberMajority = [Legislator(\n",
    "                np.random.normal(majorityCenter, uniformity),\n",
    "#                 boundedRandom(majorityCenter, uniformity, 0, 1),\n",
    "                eccentricity, True\n",
    "            ) for n in range(majority)]\n",
    "        chamberMinority = [Legislator(\n",
    "                np.random.normal(majorityCenter, uniformity),\n",
    "#                 boundedRandom(minorityCenter, uniformity, 0, 1),\n",
    "                eccentricity, False\n",
    "            ) for n in range(minority)]\n",
    "        self.chamber = chamberMajority + chamberMinority\n",
    "    def vote(self):\n",
    "        return Result(self.chamber)"
   ]
  },
  {
   "cell_type": "code",
   "execution_count": 146,
   "metadata": {
    "collapsed": false
   },
   "outputs": [
    {
     "data": {
      "text/plain": [
       "[(0.7481403502473992, 0.1),\n",
       " (0.44237187134755895, 0.1),\n",
       " (0.42020997059582765, 0.1),\n",
       " (1, 0.1),\n",
       " (0.8783596012268905, 0.1),\n",
       " (0.19302109108557713, 0.1),\n",
       " (0.2440781070287973, 0.1),\n",
       " (0.4727252939963481, 0.1),\n",
       " (0.229523419826486, 0.1)]"
      ]
     },
     "execution_count": 146,
     "metadata": {},
     "output_type": "execute_result"
    }
   ],
   "source": [
    "l = Legislature(9,5)\n",
    "[(mp.mu, mp.sigma) for mp in l.chamber]"
   ]
  },
  {
   "cell_type": "code",
   "execution_count": 154,
   "metadata": {
    "collapsed": true
   },
   "outputs": [],
   "source": [
    "class test:\n",
    "    def __init__(self, legislature, votes=20):\n",
    "        self.votes = votes\n",
    "        self.results = [legislature.vote() for n in range(votes)]\n",
    "    def carried(self):\n",
    "        return len([r for r in self.results if r.carried() is True]) / self.votes\n",
    "    def __repr__(self):\n",
    "        return str(self.carried())"
   ]
  },
  {
   "cell_type": "code",
   "execution_count": 155,
   "metadata": {
    "collapsed": false
   },
   "outputs": [
    {
     "data": {
      "text/plain": [
       "[3, 4, 4, 3, 4, 3, 4, 4, 3, 4, 3, 3, 4, 3, 4, 4, 4, 5, 4, 5]"
      ]
     },
     "execution_count": 155,
     "metadata": {},
     "output_type": "execute_result"
    }
   ],
   "source": [
    "t = test(l,20)\n",
    "t.results"
   ]
  },
  {
   "cell_type": "code",
   "execution_count": 159,
   "metadata": {
    "collapsed": false
   },
   "outputs": [],
   "source": [
    "def runLegislature(n, votes=20, *args, **kwargs):\n",
    "    legislatures = [Legislature(*args, **kwargs) for n in range(n)]\n",
    "    results = [test(l, votes) for l in legislatures]\n",
    "    if(n < 20):\n",
    "        print(results)\n",
    "    results_num = [float(r.carried()) for r in results]\n",
    "    print(np.median(results_num))\n",
    "    print(sp.stats.describe(results_num))\n",
    "    return results"
   ]
  },
  {
   "cell_type": "code",
   "execution_count": 182,
   "metadata": {
    "collapsed": false,
    "scrolled": true
   },
   "outputs": [
    {
     "name": "stdout",
     "output_type": "stream",
     "text": [
      "0.95\n",
      "DescribeResult(nobs=4000, minmax=(0.0, 1.0), mean=0.86483749999999981, variance=0.044704149631157784, skewness=-1.9149981490769823, kurtosis=3.100872218020471)\n"
     ]
    }
   ],
   "source": [
    "smallRun = runLegislature(4000, 20, 9, 5, 0.1)"
   ]
  },
  {
   "cell_type": "code",
   "execution_count": 183,
   "metadata": {
    "collapsed": false
   },
   "outputs": [
    {
     "name": "stdout",
     "output_type": "stream",
     "text": [
      "1.0\n",
      "DescribeResult(nobs=4000, minmax=(1.0, 1.0), mean=1.0, variance=0.0, skewness=0.0, kurtosis=-3.0)\n"
     ]
    }
   ],
   "source": [
    "largeRun = runLegislature(4000, 20, 900, 500, 0.1)"
   ]
  },
  {
   "cell_type": "code",
   "execution_count": 177,
   "metadata": {
    "collapsed": true
   },
   "outputs": [],
   "source": [
    "with open('./smallRun.csv', 'w+', newline='') as f:\n",
    "    writer = csv.writer(f)\n",
    "    writer.writerows([r.results for r in smallRun])"
   ]
  },
  {
   "cell_type": "code",
   "execution_count": 178,
   "metadata": {
    "collapsed": true
   },
   "outputs": [],
   "source": [
    "with open('./largeRun.csv', 'w+', newline='') as f:\n",
    "    writer = csv.writer(f)\n",
    "    writer.writerows([r.results for r in largeRun])"
   ]
  },
  {
   "cell_type": "code",
   "execution_count": null,
   "metadata": {
    "collapsed": true
   },
   "outputs": [],
   "source": []
  }
 ],
 "metadata": {
  "kernelspec": {
   "display_name": "Python 3",
   "language": "python",
   "name": "python3"
  },
  "language_info": {
   "codemirror_mode": {
    "name": "ipython",
    "version": 3
   },
   "file_extension": ".py",
   "mimetype": "text/x-python",
   "name": "python",
   "nbconvert_exporter": "python",
   "pygments_lexer": "ipython3",
   "version": "3.4.3"
  }
 },
 "nbformat": 4,
 "nbformat_minor": 0
}
